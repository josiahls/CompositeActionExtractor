{
 "cells": [
  {
   "cell_type": "code",
   "execution_count": 1,
   "metadata": {
    "pycharm": {
     "is_executing": false
    }
   },
   "outputs": [],
   "source": [
    "from utils.file_handling import *\n",
    "from utils.misc import *\n",
    "from utils.matplot_handlers import *\n",
    "from utils.visualizers import *\n",
    "from segmentation.composite_action_extractor import *\n",
    "import pandas as pd\n",
    "import numpy as np\n",
    "import matplotlib.pyplot as plt\n",
    "import pickle\n",
    "from itertools import product\n",
    "%matplotlib inline\n",
    "\n",
    "# Entropy Parameters\n",
    "# csv_file_name = 'Cartpole'\n",
    "# csv_file_name = 'Mountaincar'\n",
    "# csv_file_name = 'Pendulum'\n",
    "csv_file_name = 'Acrobot'\n",
    "episodes = None#[2]\n",
    "analysis_method = ['w', 's', 'p', 'js', 'tv', 'kld']\n",
    "\n",
    "# Read in entropy csv\n",
    "base_path = get_absolute_path('data', directory_file_hint=csv_file_name.lower(), ignore_files=False)\n",
    "csv_path = os.path.join(base_path, 'state_action_data.csv')\n",
    "\n",
    "pre_data = pd.read_csv(csv_path, index_col=None)\n",
    "selected_episodes = pre_data['episode'].unique()  # Either do [some index] or [:]\n",
    "selected_episodes = [selected_episodes] if np.isscalar(selected_episodes) else selected_episodes\n",
    "data_df = pre_data[pre_data['episode'].isin(selected_episodes)]"
   ]
  },
  {
   "cell_type": "code",
   "execution_count": 2,
   "metadata": {},
   "outputs": [],
   "source": [
    "from ipywidgets import FloatSlider, IntSlider\n",
    "from ipywidgets import interact, interactive, fixed, interact_manual\n",
    "from copy import copy\n",
    "\n",
    "matplotlib.rcParams[\"figure.facecolor\"] = 'white'\n",
    "\n",
    "def matplot_gen(i, do_return=False):\n",
    "    fig = plt.figure(figsize=(9, 5))\n",
    "    plt.grid(False)\n",
    "    plt.xticks([])\n",
    "    plt.yticks([])\n",
    "    plt.subplot(1,2,1)\n",
    "    plt.imshow(video[i])\n",
    "    plt.subplot(1,2,2)\n",
    "    plt.subplots_adjust(right=1.5)\n",
    "    plt.plot(info['index_groups'][0], markevery=[i], marker='|', markeredgecolor='r', \n",
    "         markersize=40, mew=4)\n",
    "    plt.plot(scored_composite_actions[0][0][0])\n",
    "    plt.ylabel('Normalized / Windowed / \\nThreshed / Measured Values')\n",
    "    plt.xlabel('Time Steps')\n",
    "    plt.title(f'Highest Effective Correlated Action Joint 0 Measurements for \\n{csv_file_name} using {method}')\n",
    "    if do_return: \n",
    "        im = get_img_from_fig(fig)\n",
    "        plt.close()\n",
    "        return im"
   ]
  },
  {
   "cell_type": "code",
   "execution_count": 3,
   "metadata": {},
   "outputs": [],
   "source": [
    "import cv2\n",
    "import imageio\n",
    "# define a function which returns an image as numpy array from figure\n",
    "def get_img_from_fig(fig, dpi=180):\n",
    "    buf = io.BytesIO()\n",
    "    fig.savefig(buf, format=\"png\", bbox_inches=\"tight\")\n",
    "    buf.seek(0)\n",
    "    img_arr = np.frombuffer(buf.getvalue(), dtype=np.uint8)\n",
    "    buf.close()\n",
    "    img = cv2.imdecode(img_arr, 1)\n",
    "    img = cv2.cvtColor(img, cv2.COLOR_BGR2RGB)\n",
    "    return img[::3, ::3, :]"
   ]
  },
  {
   "cell_type": "code",
   "execution_count": 4,
   "metadata": {},
   "outputs": [
    {
     "data": {
      "text/plain": [
       "array([  4,  23,  34,  41,  43,  49,  67,  68, 134, 251, 419, 450])"
      ]
     },
     "execution_count": 4,
     "metadata": {},
     "output_type": "execute_result"
    }
   ],
   "source": [
    "selected_episodes"
   ]
  },
  {
   "cell_type": "code",
   "execution_count": null,
   "metadata": {},
   "outputs": [
    {
     "name": "stdout",
     "output_type": "stream",
     "text": [
      "Working on episode 4, method w\n",
      "Loading Video\n",
      "Loading df\n",
      "Running Composite Action Extractor\n",
      "Processing Images\n",
      "Generating Gif\n",
      "Working on episode 4, method s\n",
      "Loading Video\n",
      "Loading df\n",
      "Running Composite Action Extractor\n",
      "Processing Images\n",
      "Generating Gif\n",
      "Working on episode 4, method p\n",
      "Loading Video\n",
      "Loading df\n",
      "Running Composite Action Extractor\n",
      "Processing Images\n",
      "Generating Gif\n",
      "Working on episode 4, method js\n",
      "Loading Video\n",
      "Loading df\n",
      "Running Composite Action Extractor\n",
      "Processing Images\n",
      "Generating Gif\n",
      "Working on episode 4, method tv\n",
      "Loading Video\n",
      "Loading df\n",
      "Running Composite Action Extractor\n",
      "Processing Images\n"
     ]
    }
   ],
   "source": [
    "if episodes is None: episodes = selected_episodes\n",
    "for episode, method in list(product(episodes, analysis_method)):\n",
    "    print(f'Working on episode {episode}, method {method}')\n",
    "\n",
    "    print(f'Loading Video')\n",
    "    with open(os.path.join(base_path, 'video.pkl'), 'rb') as f:\n",
    "        video_path = pickle.load(f)\n",
    "    \n",
    "    video = video_path[episode][0]\n",
    "    \n",
    "    print(f'Loading df')\n",
    "    main_df = data_df[data_df['episode'] == episode].copy()\n",
    "    print(f'Running Composite Action Extractor')\n",
    "    composite_actions, info = CompositeActionExtractor.get_composite_actions(dataframe=main_df, \n",
    "                                                                             analysis_method=method, \n",
    "                                                                             window_size=5)\n",
    "    \n",
    "    ## We can take a look at primarily the action with the maximum total entropy\n",
    "    scored_composite_actions = {key: [(seg, info['state_analyzed_norm'][~np.isnan(seg)].max()) for seg in composite_actions[key]] for key in composite_actions}\n",
    "    k = 1\n",
    "    for key in scored_composite_actions:\n",
    "        scored_composite_actions[key] = list(sorted(scored_composite_actions[key], key=lambda x: x[1], reverse=True))[:k]\n",
    "\n",
    "    isolated_composite_actions = {key: [seg[~np.isnan(seg)] for seg in composite_actions[key]] for key in composite_actions}\n",
    "\n",
    "    print(f'Processing Images')\n",
    "    images = [matplot_gen(i, True) for i in range((video.shape[0]-1))]\n",
    "    print(f'Generating Gif')\n",
    "    imageio.mimsave(f'../../video_samples/{csv_file_name.lower()}_episode_{episode}_{method}.gif', images)"
   ]
  },
  {
   "cell_type": "code",
   "execution_count": null,
   "metadata": {
    "pycharm": {
     "is_executing": true
    }
   },
   "outputs": [],
   "source": [
    "import pickle\n",
    "\n",
    "name = os.path.join(base_path, 'segments')\n",
    "if name[-4:] != \".pkl\":\n",
    "    name += \".pkl\"\n",
    "with open(name, 'wb') as f:\n",
    "    pickle.dump(isolated_composite_actions, f, pickle.HIGHEST_PROTOCOL)"
   ]
  }
 ],
 "metadata": {
  "kernelspec": {
   "display_name": "Python 3",
   "language": "python",
   "name": "python3"
  },
  "language_info": {
   "codemirror_mode": {
    "name": "ipython",
    "version": 3
   },
   "file_extension": ".py",
   "mimetype": "text/x-python",
   "name": "python",
   "nbconvert_exporter": "python",
   "pygments_lexer": "ipython3",
   "version": "3.7.5"
  }
 },
 "nbformat": 4,
 "nbformat_minor": 1
}
