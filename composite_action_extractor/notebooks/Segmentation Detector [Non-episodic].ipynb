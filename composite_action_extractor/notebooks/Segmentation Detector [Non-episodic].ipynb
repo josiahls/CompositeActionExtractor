{
 "cells": [
  {
   "cell_type": "code",
   "execution_count": 1,
   "metadata": {
    "pycharm": {
     "is_executing": false
    }
   },
   "outputs": [],
   "source": [
    "from utils.file_handling import *\n",
    "from utils.misc import *\n",
    "from utils.matplot_handlers import *\n",
    "from utils.visualizers import *\n",
    "from segmentation.composite_action_extractor import *\n",
    "import pandas as pd\n",
    "import numpy as np\n",
    "import matplotlib.pyplot as plt\n",
    "import pickle\n",
    "%matplotlib inline\n",
    "\n",
    "# Entropy Parameters\n",
    "csv_file_name = 'jigsaw_Knot_Tying_B001_capture1'\n",
    "analysis_method = 'w'\n",
    "\n",
    "# Read in entropy csv\n",
    "base_path = get_absolute_path('data', directory_file_hint=csv_file_name, ignore_files=False)\n",
    "csv_path = os.path.join(base_path, 'state_action_data.csv')\n",
    "main_df = pd.read_csv(csv_path, index_col=None)"
   ]
  },
  {
   "cell_type": "code",
   "execution_count": null,
   "metadata": {
    "pycharm": {
     "is_executing": true
    }
   },
   "outputs": [],
   "source": [
    "composite_actions, info = CompositeActionExtractor.get_composite_actions(dataframe=main_df, analysis_method=analysis_method, \n",
    "                                                            window_size=5)"
   ]
  },
  {
   "cell_type": "code",
   "execution_count": null,
   "metadata": {
    "pycharm": {
     "is_executing": true
    }
   },
   "outputs": [],
   "source": [
    "matplotlib.rcParams['figure.figsize'] = [15, 5]\n",
    "plt.subplot(121)\n",
    "plt.plot(info['state_analyzed_norm'])\n",
    "plt.ylabel('Normalized / Windowed \\n/ Measured Values')\n",
    "plt.xlabel('Time Steps')\n",
    "plt.title(f'State Measurements for {csv_file_name} EM')#using {analysis_method}')\n",
    "plt.subplot(122)\n",
    "plt.plot(info['action_analyzed_norm'])\n",
    "plt.ylabel('Normalized / Windowed \\n/ Measured Values')\n",
    "plt.xlabel('Time Steps')\n",
    "plt.title(f'Action Measurements for {csv_file_name} EM')#using {analysis_method}')"
   ]
  },
  {
   "cell_type": "code",
   "execution_count": null,
   "metadata": {
    "pycharm": {
     "is_executing": true
    }
   },
   "outputs": [],
   "source": [
    "matplotlib.rcParams['figure.figsize'] = [15, 5]\n",
    "plt.subplot(121)\n",
    "plt.plot(info['state_analyzed_binary'])\n",
    "plt.ylabel('Normalized / Windowed \\n/ Threshed / Measured Values')\n",
    "plt.xlabel('Time Steps')\n",
    "plt.title(f'State Threshed Measurements for \\n{csv_file_name} using {analysis_method}')\n",
    "plt.subplot(122)\n",
    "plt.plot(info['action_analyzed_binary'])\n",
    "plt.ylabel('Normalized / Windowed \\n/ Threshed / Measured Values')\n",
    "plt.xlabel('Time Steps')\n",
    "plt.title(f'Action Threshed Measurements for \\n{csv_file_name} using {analysis_method}')"
   ]
  },
  {
   "cell_type": "code",
   "execution_count": null,
   "metadata": {
    "pycharm": {
     "is_executing": true
    }
   },
   "outputs": [],
   "source": [
    "matplotlib.rcParams['figure.figsize'] = [8, 5]\n",
    "for key in info['index_groups']:\n",
    "    plt.subplot(1,len(info['index_groups']),1)\n",
    "    plt.plot(info['index_groups'][key])\n",
    "    plt.ylabel('Normalized / Windowed / \\nThreshed / Measured Values')\n",
    "    plt.xlabel('Time Steps')\n",
    "    plt.title(f'Correlated Measurements for \\n{csv_file_name} using {analysis_method}')"
   ]
  },
  {
   "cell_type": "code",
   "execution_count": null,
   "metadata": {
    "pycharm": {
     "is_executing": true
    }
   },
   "outputs": [],
   "source": [
    "matplotlib.rcParams['figure.figsize'] = [10, 5]\n",
    "plt.plot(info['actions'])\n",
    "for action in composite_actions:\n",
    "    for i, segment in enumerate(composite_actions[action]):\n",
    "        plt.plot(segment, label=f'composite Action {action} segment #{i}')\n",
    "\n",
    "plt.title('Discovered Composite Actions')\n",
    "plt.ylabel('Raw Action Values \\n(Overlayed composite Action Segments)')\n",
    "plt.xlabel('Time Steps')\n",
    "# plt.legend(bbox_to_anchor=(1.01,1), loc=\"upper left\")"
   ]
  },
  {
   "cell_type": "code",
   "execution_count": null,
   "metadata": {
    "pycharm": {
     "is_executing": true
    }
   },
   "outputs": [],
   "source": [
    "## We can take a look at primarily the action with the maximum total entropy\n",
    "scored_composite_actions = {key: [(seg, info['state_analyzed_norm'][~np.isnan(seg)].max()) for seg in composite_actions[key]] for key in composite_actions}\n",
    "k = 1\n",
    "for key in scored_composite_actions:\n",
    "    scored_composite_actions[key] = list(sorted(scored_composite_actions[key], key=lambda x: x[1], reverse=True))[:k]"
   ]
  },
  {
   "cell_type": "code",
   "execution_count": null,
   "metadata": {
    "pycharm": {
     "is_executing": true
    }
   },
   "outputs": [],
   "source": [
    "isolated_composite_actions = {key: [seg[~np.isnan(seg)] for seg in composite_actions[key]] for key in composite_actions}"
   ]
  },
  {
   "cell_type": "code",
   "execution_count": null,
   "metadata": {
    "pycharm": {
     "is_executing": true
    }
   },
   "outputs": [],
   "source": [
    "from ipywidgets import FloatSlider, IntSlider\n",
    "from ipywidgets import interact, interactive, fixed, interact_manual\n",
    "\n",
    "matplotlib.rcParams[\"figure.facecolor\"] = 'white'\n",
    "def f(i):\n",
    "    plt.grid(False)\n",
    "    plt.xticks([])\n",
    "    plt.yticks([])\n",
    "    plt.subplot(1,2,1)\n",
    "    plt.imshow(video[i])\n",
    "    plt.subplot(1,2,2)\n",
    "    plt.subplots_adjust(right=1.5)\n",
    "    plt.plot(info['index_groups'][0], markevery=[i], marker='|', markeredgecolor='r', \n",
    "         markersize=40, mew=4)\n",
    "    plt.plot(scored_composite_actions[0][0][0])\n",
    "    plt.ylabel('Normalized / Windowed / \\nThreshed / Measured Values')\n",
    "    plt.xlabel('Time Steps')\n",
    "    plt.title(f'Highest Effective Correlated Action Joint 0 Measurements for \\n{csv_file_name} using {analysis_method}')\n",
    "    \n",
    "\n",
    "interact(f,i=IntSlider(min=0, max=video.shape[0]-1, step=1));"
   ]
  },
  {
   "cell_type": "code",
   "execution_count": null,
   "metadata": {
    "pycharm": {
     "is_executing": true
    }
   },
   "outputs": [],
   "source": [
    "import pickle\n",
    "\n",
    "name = os.path.join(base_path, 'segments')\n",
    "if name[-4:] != \".pkl\":\n",
    "    name += \".pkl\"\n",
    "with open(name, 'wb') as f:\n",
    "    pickle.dump(isolated_composite_actions, f, pickle.HIGHEST_PROTOCOL)"
   ]
  }
 ],
 "metadata": {
  "kernelspec": {
   "display_name": "Python 3",
   "language": "python",
   "name": "python3"
  },
  "language_info": {
   "codemirror_mode": {
    "name": "ipython",
    "version": 3
   },
   "file_extension": ".py",
   "mimetype": "text/x-python",
   "name": "python",
   "nbconvert_exporter": "python",
   "pygments_lexer": "ipython3",
   "version": "3.6.9"
  }
 },
 "nbformat": 4,
 "nbformat_minor": 1
}